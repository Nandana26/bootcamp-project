{
  "nbformat": 4,
  "nbformat_minor": 0,
  "metadata": {
    "colab": {
      "name": "bootcamp_project.ipynb",
      "provenance": [],
      "collapsed_sections": []
    },
    "kernelspec": {
      "name": "python3",
      "display_name": "Python 3"
    },
    "language_info": {
      "name": "python"
    }
  },
  "cells": [
    {
      "cell_type": "code",
      "metadata": {
        "id": "WsaXfxJEb7b1",
        "colab": {
          "base_uri": "https://localhost:8080/"
        },
        "outputId": "efb7c529-1a57-4183-a115-1bbb9736a6ce"
      },
      "source": [
        "import requests\n",
        "#import os \n",
        "from datetime import datetime\n",
        "\n",
        "api_key ='bc008a29ee9c62ee644f696fc32f2aa6'\n",
        "location=input(\"Enter the city name : \")\n",
        "\n",
        "complete_api_link=\"https://api.openweathermap.org/data/2.5/weather?q=\"+location+\"&appid=\"+api_key\n",
        "api_link=requests.get(complete_api_link)\n",
        "api_data=api_link.json()\n",
        "\n",
        "#create variables to store and display data\n",
        "temp_city=((api_data['main']['temp'])-273.15)\n",
        "weather_desc=api_data['weather'][0]['description']\n",
        "hmdt=api_data['main']['humidity']\n",
        "wind_spd=api_data['wind']['speed']\n",
        "date_time=datetime.now().strftime(\"%d %b%Y | %I:%M:%S %p\")\n",
        "\n",
        "print(\"-------------------------------------------------------------\")\n",
        "print(\"Weather Stats for - {} || {}\".format(location.upper(), date_time))\n",
        "print(\"-------------------------------------------------------------\")\n",
        "\n",
        "print(\"current temperature is : {:.2f} deg C\".format(temp_city))\n",
        "print(\"Current weather desc   :\",weather_desc)\n",
        "print(\"Current Humidity       :\",hmdt, '%')\n",
        "print(\"Current wind speed     :\",wind_spd ,'kmph')"
      ],
      "execution_count": 3,
      "outputs": [
        {
          "output_type": "stream",
          "text": [
            "Enter the city name : kochi\n",
            "-------------------------------------------------------------\n",
            "Weather Stats for - KOCHI || 23 Jun2021 | 11:30:51 AM\n",
            "-------------------------------------------------------------\n",
            "current temperature is : 28.99 deg C\n",
            "Current weather desc   : overcast clouds\n",
            "Current Humidity       : 79 %\n",
            "Current wind speed     : 4.92 kmph\n"
          ],
          "name": "stdout"
        }
      ]
    }
  ]
}